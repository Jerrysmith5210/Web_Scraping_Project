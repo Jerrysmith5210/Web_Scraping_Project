{
 "cells": [
  {
   "cell_type": "code",
   "execution_count": 199,
   "metadata": {},
   "outputs": [],
   "source": [
    "from collections import Counter\n",
    "import nltk\n",
    "import pandas as pd\n",
    "import re as regex\n",
    "import numpy as np\n",
    "from nltk.corpus import stopwords\n",
    "import string\n",
    "from sklearn.metrics import f1_score, precision_score, recall_score, accuracy_score\n",
    "from sklearn.model_selection import train_test_split, cross_val_score, GridSearchCV, RandomizedSearchCV\n",
    "from time import time\n",
    "import string"
   ]
  },
  {
   "cell_type": "code",
   "execution_count": 200,
   "metadata": {},
   "outputs": [],
   "source": [
    "farmers= pd.read_csv('founding_farmers_reviews.csv')"
   ]
  },
  {
   "cell_type": "code",
   "execution_count": 201,
   "metadata": {},
   "outputs": [],
   "source": [
    "farmers.columns=[\"Reviewer\", \"Reviewer_location\", \"Review_date\",\"Stars\", \"Comments\"]"
   ]
  },
  {
   "cell_type": "code",
   "execution_count": 202,
   "metadata": {},
   "outputs": [
    {
     "data": {
      "text/html": [
       "<div>\n",
       "<style scoped>\n",
       "    .dataframe tbody tr th:only-of-type {\n",
       "        vertical-align: middle;\n",
       "    }\n",
       "\n",
       "    .dataframe tbody tr th {\n",
       "        vertical-align: top;\n",
       "    }\n",
       "\n",
       "    .dataframe thead th {\n",
       "        text-align: right;\n",
       "    }\n",
       "</style>\n",
       "<table border=\"1\" class=\"dataframe\">\n",
       "  <thead>\n",
       "    <tr style=\"text-align: right;\">\n",
       "      <th></th>\n",
       "      <th>Reviewer</th>\n",
       "      <th>Reviewer_location</th>\n",
       "      <th>Review_date</th>\n",
       "      <th>Stars</th>\n",
       "      <th>Comments</th>\n",
       "    </tr>\n",
       "  </thead>\n",
       "  <tbody>\n",
       "    <tr>\n",
       "      <th>0</th>\n",
       "      <td>Angelica T.</td>\n",
       "      <td>San Jose, CA</td>\n",
       "      <td>5/14/18</td>\n",
       "      <td>4</td>\n",
       "      <td>Can get crowded during rush meal hours + weeke...</td>\n",
       "    </tr>\n",
       "    <tr>\n",
       "      <th>1</th>\n",
       "      <td>Ashton C.</td>\n",
       "      <td>Atlanta, GA</td>\n",
       "      <td>5/14/18</td>\n",
       "      <td>5</td>\n",
       "      <td>This place is sooooooooooooooo GOOD! Found the...</td>\n",
       "    </tr>\n",
       "    <tr>\n",
       "      <th>2</th>\n",
       "      <td>Ashley C.</td>\n",
       "      <td>Chicago, IL</td>\n",
       "      <td>5/14/18</td>\n",
       "      <td>5</td>\n",
       "      <td>WOW! This place is nothing short of A-M-A-Z-I-...</td>\n",
       "    </tr>\n",
       "    <tr>\n",
       "      <th>3</th>\n",
       "      <td>Christine L.</td>\n",
       "      <td>Charlotte, NC</td>\n",
       "      <td>5/14/18</td>\n",
       "      <td>5</td>\n",
       "      <td>So I found this place as I was researching a t...</td>\n",
       "    </tr>\n",
       "    <tr>\n",
       "      <th>4</th>\n",
       "      <td>Dia H.</td>\n",
       "      <td>Stanley, NC</td>\n",
       "      <td>5/10/18</td>\n",
       "      <td>4</td>\n",
       "      <td>A supposed renowned eating destination, and wh...</td>\n",
       "    </tr>\n",
       "  </tbody>\n",
       "</table>\n",
       "</div>"
      ],
      "text/plain": [
       "       Reviewer Reviewer_location Review_date  Stars  \\\n",
       "0   Angelica T.      San Jose, CA     5/14/18      4   \n",
       "1     Ashton C.       Atlanta, GA     5/14/18      5   \n",
       "2     Ashley C.       Chicago, IL     5/14/18      5   \n",
       "3  Christine L.     Charlotte, NC     5/14/18      5   \n",
       "4        Dia H.       Stanley, NC     5/10/18      4   \n",
       "\n",
       "                                            Comments  \n",
       "0  Can get crowded during rush meal hours + weeke...  \n",
       "1  This place is sooooooooooooooo GOOD! Found the...  \n",
       "2  WOW! This place is nothing short of A-M-A-Z-I-...  \n",
       "3  So I found this place as I was researching a t...  \n",
       "4  A supposed renowned eating destination, and wh...  "
      ]
     },
     "execution_count": 202,
     "metadata": {},
     "output_type": "execute_result"
    }
   ],
   "source": [
    "farmers.head()"
   ]
  },
  {
   "cell_type": "code",
   "execution_count": 203,
   "metadata": {},
   "outputs": [
    {
     "data": {
      "text/plain": [
       "(10702, 5)"
      ]
     },
     "execution_count": 203,
     "metadata": {},
     "output_type": "execute_result"
    }
   ],
   "source": [
    "farmers.shape"
   ]
  },
  {
   "cell_type": "code",
   "execution_count": 204,
   "metadata": {},
   "outputs": [
    {
     "data": {
      "text/plain": [
       "Reviewer             object\n",
       "Reviewer_location    object\n",
       "Review_date          object\n",
       "Stars                 int64\n",
       "Comments             object\n",
       "dtype: object"
      ]
     },
     "execution_count": 204,
     "metadata": {},
     "output_type": "execute_result"
    }
   ],
   "source": [
    "farmers.dtypes"
   ]
  },
  {
   "cell_type": "code",
   "execution_count": 205,
   "metadata": {},
   "outputs": [
    {
     "data": {
      "text/html": [
       "<div>\n",
       "<style scoped>\n",
       "    .dataframe tbody tr th:only-of-type {\n",
       "        vertical-align: middle;\n",
       "    }\n",
       "\n",
       "    .dataframe tbody tr th {\n",
       "        vertical-align: top;\n",
       "    }\n",
       "\n",
       "    .dataframe thead th {\n",
       "        text-align: right;\n",
       "    }\n",
       "</style>\n",
       "<table border=\"1\" class=\"dataframe\">\n",
       "  <thead>\n",
       "    <tr style=\"text-align: right;\">\n",
       "      <th></th>\n",
       "      <th>Stars</th>\n",
       "    </tr>\n",
       "  </thead>\n",
       "  <tbody>\n",
       "    <tr>\n",
       "      <th>count</th>\n",
       "      <td>10702.000000</td>\n",
       "    </tr>\n",
       "    <tr>\n",
       "      <th>mean</th>\n",
       "      <td>3.982994</td>\n",
       "    </tr>\n",
       "    <tr>\n",
       "      <th>std</th>\n",
       "      <td>1.103168</td>\n",
       "    </tr>\n",
       "    <tr>\n",
       "      <th>min</th>\n",
       "      <td>1.000000</td>\n",
       "    </tr>\n",
       "    <tr>\n",
       "      <th>25%</th>\n",
       "      <td>3.000000</td>\n",
       "    </tr>\n",
       "    <tr>\n",
       "      <th>50%</th>\n",
       "      <td>4.000000</td>\n",
       "    </tr>\n",
       "    <tr>\n",
       "      <th>75%</th>\n",
       "      <td>5.000000</td>\n",
       "    </tr>\n",
       "    <tr>\n",
       "      <th>max</th>\n",
       "      <td>5.000000</td>\n",
       "    </tr>\n",
       "  </tbody>\n",
       "</table>\n",
       "</div>"
      ],
      "text/plain": [
       "              Stars\n",
       "count  10702.000000\n",
       "mean       3.982994\n",
       "std        1.103168\n",
       "min        1.000000\n",
       "25%        3.000000\n",
       "50%        4.000000\n",
       "75%        5.000000\n",
       "max        5.000000"
      ]
     },
     "execution_count": 205,
     "metadata": {},
     "output_type": "execute_result"
    }
   ],
   "source": [
    "farmers.describe()"
   ]
  },
  {
   "cell_type": "code",
   "execution_count": 206,
   "metadata": {},
   "outputs": [
    {
     "data": {
      "text/plain": [
       "count    10702.000000\n",
       "mean         3.982994\n",
       "std          1.103168\n",
       "min          1.000000\n",
       "25%          3.000000\n",
       "50%          4.000000\n",
       "75%          5.000000\n",
       "max          5.000000\n",
       "Name: Stars, dtype: float64"
      ]
     },
     "execution_count": 206,
     "metadata": {},
     "output_type": "execute_result"
    }
   ],
   "source": [
    "farmers['Stars'].describe()"
   ]
  },
  {
   "cell_type": "code",
   "execution_count": 125,
   "metadata": {},
   "outputs": [
    {
     "name": "stdout",
     "output_type": "stream",
     "text": [
      "<class 'pandas.core.frame.DataFrame'>\n",
      "RangeIndex: 10702 entries, 0 to 10701\n",
      "Data columns (total 5 columns):\n",
      "Reviewer             10702 non-null object\n",
      "Reviewer_location    10700 non-null object\n",
      "Review_date          10702 non-null object\n",
      "Stars                10702 non-null int64\n",
      "Comments             10702 non-null object\n",
      "dtypes: int64(1), object(4)\n",
      "memory usage: 418.1+ KB\n"
     ]
    }
   ],
   "source": [
    "farmers.info()"
   ]
  },
  {
   "cell_type": "code",
   "execution_count": 126,
   "metadata": {},
   "outputs": [
    {
     "data": {
      "text/plain": [
       "5    4350\n",
       "4    3487\n",
       "3    1603\n",
       "2     857\n",
       "1     405\n",
       "Name: Stars, dtype: int64"
      ]
     },
     "execution_count": 126,
     "metadata": {},
     "output_type": "execute_result"
    }
   ],
   "source": [
    "farmers['Stars'].value_counts()"
   ]
  },
  {
   "cell_type": "code",
   "execution_count": 127,
   "metadata": {},
   "outputs": [
    {
     "data": {
      "text/plain": [
       "'Can get crowded during rush meal hours + weekend brunch hours so reserve if you can! I came in on a Monday around 11:00 so I was able to be seated within 10-15 minutes.Had heard a lot about this place so I was really excited to try it. Decided to go with a crab Benedict and an Earl Grey to get my brunching started.First thing that caught my eye was the dark coffee rim stain on my cup :(. I\\'m not a germaphobe but it detracted from the otherwise cute decor. Food wise-The crab cake was delicious, and most certainly had more crab than stuffing. I was just a little disappointed in the side, I guess I was expecting that it\\'d be a side of roasted tomatoes, and not just 2 thin sandwich slices.\"White\" Earl Grey was also just a really watered down version of Earl Grey, but the pot cost 4.24, bring the total up to 21+ tip for brunch (!)Overall, while I think the layout of the place is fun, and there are plenty of cocktail selections for everyone to choose from, I wouldn\\'t be all too excited to come back for the food/service when I could get the same elsewhere for less $$ and wait-time'"
      ]
     },
     "execution_count": 127,
     "metadata": {},
     "output_type": "execute_result"
    }
   ],
   "source": [
    "farmers['Comments'][0]"
   ]
  },
  {
   "cell_type": "code",
   "execution_count": 128,
   "metadata": {},
   "outputs": [
    {
     "data": {
      "image/png": "[encoded data removed]",
      "text/plain": [
       "<matplotlib.figure.Figure at 0x116cbc978>"
      ]
     },
     "metadata": {},
     "output_type": "display_data"
    }
   ],
   "source": [
    "import matplotlib.pyplot as plt\n",
    "\n",
    "hist = plt.hist(farmers['Stars'], bins = 5)\n",
    "xlabel = plt.xlabel('Star ratings')\n",
    "ylabel = plt.ylabel('count')\n",
    "title = plt.title('Histogram of Total Number of Stars', fontsize = 15)"
   ]
  },
  {
   "cell_type": "code",
   "execution_count": 130,
   "metadata": {},
   "outputs": [
    {
     "data": {
      "text/plain": [
       "<matplotlib.axes._subplots.AxesSubplot at 0x116dc3e10>"
      ]
     },
     "execution_count": 130,
     "metadata": {},
     "output_type": "execute_result"
    },
    {
     "data": {
      "image/png": "[encoded data removed]",
      "text/plain": [
       "<matplotlib.figure.Figure at 0x11ce7b358>"
      ]
     },
     "metadata": {},
     "output_type": "display_data"
    }
   ],
   "source": [
    "import seaborn as sns\n",
    "sns.kdeplot(farmers['Stars'], shade=True, label='Estimated PDF of Star counts')"
   ]
  },
  {
   "cell_type": "code",
   "execution_count": 131,
   "metadata": {},
   "outputs": [
    {
     "data": {
      "text/html": [
       "<div>\n",
       "<style scoped>\n",
       "    .dataframe tbody tr th:only-of-type {\n",
       "        vertical-align: middle;\n",
       "    }\n",
       "\n",
       "    .dataframe tbody tr th {\n",
       "        vertical-align: top;\n",
       "    }\n",
       "\n",
       "    .dataframe thead th {\n",
       "        text-align: right;\n",
       "    }\n",
       "</style>\n",
       "<table border=\"1\" class=\"dataframe\">\n",
       "  <thead>\n",
       "    <tr style=\"text-align: right;\">\n",
       "      <th></th>\n",
       "      <th>Reviewer</th>\n",
       "      <th>Reviewer_location</th>\n",
       "      <th>Review_date</th>\n",
       "      <th>Stars</th>\n",
       "      <th>Comments</th>\n",
       "      <th>Comments length</th>\n",
       "    </tr>\n",
       "  </thead>\n",
       "  <tbody>\n",
       "    <tr>\n",
       "      <th>0</th>\n",
       "      <td>Angelica T.</td>\n",
       "      <td>San Jose, CA</td>\n",
       "      <td>5/14/18</td>\n",
       "      <td>4</td>\n",
       "      <td>Can get crowded during rush meal hours + weeke...</td>\n",
       "      <td>1090</td>\n",
       "    </tr>\n",
       "    <tr>\n",
       "      <th>1</th>\n",
       "      <td>Ashton C.</td>\n",
       "      <td>Atlanta, GA</td>\n",
       "      <td>5/14/18</td>\n",
       "      <td>5</td>\n",
       "      <td>This place is sooooooooooooooo GOOD! Found the...</td>\n",
       "      <td>749</td>\n",
       "    </tr>\n",
       "    <tr>\n",
       "      <th>2</th>\n",
       "      <td>Ashley C.</td>\n",
       "      <td>Chicago, IL</td>\n",
       "      <td>5/14/18</td>\n",
       "      <td>5</td>\n",
       "      <td>WOW! This place is nothing short of A-M-A-Z-I-...</td>\n",
       "      <td>620</td>\n",
       "    </tr>\n",
       "    <tr>\n",
       "      <th>3</th>\n",
       "      <td>Christine L.</td>\n",
       "      <td>Charlotte, NC</td>\n",
       "      <td>5/14/18</td>\n",
       "      <td>5</td>\n",
       "      <td>So I found this place as I was researching a t...</td>\n",
       "      <td>879</td>\n",
       "    </tr>\n",
       "    <tr>\n",
       "      <th>4</th>\n",
       "      <td>Dia H.</td>\n",
       "      <td>Stanley, NC</td>\n",
       "      <td>5/10/18</td>\n",
       "      <td>4</td>\n",
       "      <td>A supposed renowned eating destination, and wh...</td>\n",
       "      <td>1462</td>\n",
       "    </tr>\n",
       "  </tbody>\n",
       "</table>\n",
       "</div>"
      ],
      "text/plain": [
       "       Reviewer Reviewer_location Review_date  Stars  \\\n",
       "0   Angelica T.      San Jose, CA     5/14/18      4   \n",
       "1     Ashton C.       Atlanta, GA     5/14/18      5   \n",
       "2     Ashley C.       Chicago, IL     5/14/18      5   \n",
       "3  Christine L.     Charlotte, NC     5/14/18      5   \n",
       "4        Dia H.       Stanley, NC     5/10/18      4   \n",
       "\n",
       "                                            Comments  Comments length  \n",
       "0  Can get crowded during rush meal hours + weeke...             1090  \n",
       "1  This place is sooooooooooooooo GOOD! Found the...              749  \n",
       "2  WOW! This place is nothing short of A-M-A-Z-I-...              620  \n",
       "3  So I found this place as I was researching a t...              879  \n",
       "4  A supposed renowned eating destination, and wh...             1462  "
      ]
     },
     "execution_count": 131,
     "metadata": {},
     "output_type": "execute_result"
    }
   ],
   "source": [
    "farmers['Comments length'] = farmers['Comments'].apply(len)\n",
    "farmers.head()"
   ]
  },
  {
   "cell_type": "code",
   "execution_count": 141,
   "metadata": {},
   "outputs": [
    {
     "data": {
      "image/png": "[encoded data removed]",
      "text/plain": [
       "<matplotlib.figure.Figure at 0x1a265dd1d0>"
      ]
     },
     "metadata": {},
     "output_type": "display_data"
    }
   ],
   "source": [
    "comments = sns.FacetGrid(data=farmers, col='Stars')\n",
    "grid=comments.map(plt.hist, 'Comments length', bins=50)"
   ]
  },
  {
   "cell_type": "code",
   "execution_count": 178,
   "metadata": {},
   "outputs": [
    {
     "data": {
      "image/png": "[encoded data removed]",
      "text/plain": [
       "<matplotlib.figure.Figure at 0x1a2bca07f0>"
      ]
     },
     "metadata": {},
     "output_type": "display_data"
    }
   ],
   "source": [
    "boxplot = sns.boxplot(x='Stars',y='Comments length', data=farmers)"
   ]
  },
  {
   "cell_type": "code",
   "execution_count": 145,
   "metadata": {},
   "outputs": [
    {
     "data": {
      "text/html": [
       "<div>\n",
       "<style scoped>\n",
       "    .dataframe tbody tr th:only-of-type {\n",
       "        vertical-align: middle;\n",
       "    }\n",
       "\n",
       "    .dataframe tbody tr th {\n",
       "        vertical-align: top;\n",
       "    }\n",
       "\n",
       "    .dataframe thead th {\n",
       "        text-align: right;\n",
       "    }\n",
       "</style>\n",
       "<table border=\"1\" class=\"dataframe\">\n",
       "  <thead>\n",
       "    <tr style=\"text-align: right;\">\n",
       "      <th></th>\n",
       "      <th>Stars</th>\n",
       "      <th>Comments length</th>\n",
       "    </tr>\n",
       "  </thead>\n",
       "  <tbody>\n",
       "    <tr>\n",
       "      <th>Stars</th>\n",
       "      <td>1.000000</td>\n",
       "      <td>-0.192286</td>\n",
       "    </tr>\n",
       "    <tr>\n",
       "      <th>Comments length</th>\n",
       "      <td>-0.192286</td>\n",
       "      <td>1.000000</td>\n",
       "    </tr>\n",
       "  </tbody>\n",
       "</table>\n",
       "</div>"
      ],
      "text/plain": [
       "                    Stars  Comments length\n",
       "Stars            1.000000        -0.192286\n",
       "Comments length -0.192286         1.000000"
      ]
     },
     "execution_count": 145,
     "metadata": {},
     "output_type": "execute_result"
    }
   ],
   "source": [
    "farmers.corr()"
   ]
  },
  {
   "cell_type": "code",
   "execution_count": 148,
   "metadata": {},
   "outputs": [
    {
     "data": {
      "text/plain": [
       "(4755, 6)"
      ]
     },
     "execution_count": 148,
     "metadata": {},
     "output_type": "execute_result"
    }
   ],
   "source": [
    "farmers_class = farmers[(farmers['Stars']== 1)| (farmers['Stars']== 5)]\n",
    "\n",
    "farmers_class.shape"
   ]
  },
  {
   "cell_type": "code",
   "execution_count": 154,
   "metadata": {},
   "outputs": [],
   "source": [
    "X = farmers_class['Comments']\n",
    "Y = farmers_class['Stars']"
   ]
  },
  {
   "cell_type": "code",
   "execution_count": 159,
   "metadata": {},
   "outputs": [
    {
     "data": {
      "text/plain": [
       "\"This place is sooooooooooooooo GOOD! Found them on Yelp. I was attracted to the reviews. This is my first time coming across a restaurant with this many great reviews. My expectations were beyond high and when I got here they still managed to impress me. I tried the following:Strawberry waffle (FLAME)Grits (Yummy I added sugar to mine)Thick cut Pepper Bacon (LIFFFFFFFFE! You have not lived until you've tried!!!)Scrambled Eggs (Perfect)Highlights*****************************************************-Gourmet Breakfast-Great Ambience-Diverse FRIENDLY Staff \\xa0-Won't put you in a good comma-Perfect LocationNegative*****************************************************-The wait but I guarantee it is worth it!Highly recommend this spot for brunch!!!\""
      ]
     },
     "execution_count": 159,
     "metadata": {},
     "output_type": "execute_result"
    }
   ],
   "source": [
    "X[1]"
   ]
  },
  {
   "cell_type": "code",
   "execution_count": 162,
   "metadata": {},
   "outputs": [],
   "source": [
    "import textblob\n",
    "from textblob import TextBlob"
   ]
  },
  {
   "cell_type": "code",
   "execution_count": 163,
   "metadata": {},
   "outputs": [],
   "source": [
    "review = TextBlob(X[1])"
   ]
  },
  {
   "cell_type": "code",
   "execution_count": 165,
   "metadata": {},
   "outputs": [
    {
     "data": {
      "text/plain": [
       "WordList(['good', 'found', 'yelp', 'great reviews', 'strawberry', 'flame', 'grits', 'yummy', 'thick', 'pepper bacon', 'liffffffffe', 'scrambled eggs', 'perfect', 'highlights*****************************************************-gourmet breakfast-great ambience-diverse friendly staff', \"-wo n't\", 'good comma-perfect', 'locationnegative*****************************************************-the', 'highly'])"
      ]
     },
     "execution_count": 165,
     "metadata": {},
     "output_type": "execute_result"
    }
   ],
   "source": [
    "review.noun_phrases"
   ]
  },
  {
   "cell_type": "code",
   "execution_count": 166,
   "metadata": {},
   "outputs": [
    {
     "data": {
      "text/plain": [
       "Sentiment(polarity=0.5357421875, subjectivity=0.4904166666666667)"
      ]
     },
     "execution_count": 166,
     "metadata": {},
     "output_type": "execute_result"
    }
   ],
   "source": [
    "review.sentiment"
   ]
  },
  {
   "cell_type": "code",
   "execution_count": null,
   "metadata": {},
   "outputs": [],
   "source": [
    "print(string.punctuation)"
   ]
  },
  {
   "cell_type": "code",
   "execution_count": null,
   "metadata": {},
   "outputs": [],
   "source": [
    "import string\n",
    "def comment_process(text):\n",
    "    '''\n",
    "    Takes in a string of text, then performs the following:\n",
    "    1. Remove all punctuation\n",
    "    2. Remove all stopwords\n",
    "    3. Return the cleaned text as a list of words\n",
    "    '''\n",
    "    clean = [x for x in text if x not in string.punctuation]\n",
    "    clean = ''.join(clean)\n",
    "    \n",
    "    return [word for word in clean.split() if word.lower() not in stopwords.words('english')]"
   ]
  },
  {
   "cell_type": "code",
   "execution_count": null,
   "metadata": {},
   "outputs": [],
   "source": []
  },
  {
   "cell_type": "code",
   "execution_count": null,
   "metadata": {},
   "outputs": [],
   "source": []
  },
  {
   "cell_type": "code",
   "execution_count": null,
   "metadata": {},
   "outputs": [],
   "source": []
  }
 ],
 "metadata": {
  "kernelspec": {
   "display_name": "Python 3",
   "language": "python",
   "name": "python3"
  },
  "language_info": {
   "codemirror_mode": {
    "name": "ipython",
    "version": 3
   },
   "file_extension": ".py",
   "mimetype": "text/x-python",
   "name": "python",
   "nbconvert_exporter": "python",
   "pygments_lexer": "ipython3",
   "version": "3.6.4"
  }
 },
 "nbformat": 4,
 "nbformat_minor": 2
}
